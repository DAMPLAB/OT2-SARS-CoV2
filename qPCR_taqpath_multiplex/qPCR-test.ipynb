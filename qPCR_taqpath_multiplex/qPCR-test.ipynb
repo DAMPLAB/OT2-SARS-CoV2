{
 "cells": [
  {
   "cell_type": "code",
   "execution_count": null,
   "metadata": {},
   "outputs": [],
   "source": [
    "import opentrons.execute\n",
    "protocol = opentrons.execute.get_protocol_api('2.2')\n",
    "protocol.home()"
   ]
  },
  {
   "cell_type": "code",
   "execution_count": null,
   "metadata": {},
   "outputs": [],
   "source": [
    "TEMP_DECK = {\n",
    "    'NAME': 'Temperature Module',\n",
    "    'SLOT': 7\n",
    "}\n",
    "P200_MULTI = {\n",
    "    'NAME': 'p300_multi',\n",
    "    'POSITION': 'left'\n",
    "}\n",
    "FILTER_TIP_20 = [{\n",
    "    'NAME': 'opentrons_96_filtertiprack_200ul',\n",
    "    'SLOT': 1,\n",
    "    'LABEL': 'Filter Tip S-1'\n",
    "}]\n",
    "\n",
    "ASPIRATE_DEPTH_BOTTOM = 2.00 #2mm from bottle\n",
    "VOL_MASTER_MIX = 15 # Reaction volume\n",
    "TEMP = 4\n",
    "TOUCH_HEIGHT = -2.0\n",
    "TOUCH_SPEED = 20.0"
   ]
  },
  {
   "cell_type": "markdown",
   "metadata": {},
   "source": [
    "### Load all components"
   ]
  },
  {
   "cell_type": "code",
   "execution_count": null,
   "metadata": {},
   "outputs": [],
   "source": [
    "temp_deck = protocol.load_module(TEMP_DECK['NAME'], location=TEMP_DECK['SLOT'])\n",
    "reaction_plate = temp_deck.load_labware('biorad_96_wellplate_200ul_pcr',\n",
    "                                        label='Reaction Plate')\n",
    "reagent_plate = protocol.load_labware('biorad_96_wellplate_200ul_pcr',\n",
    "                                      location=4,\n",
    "                                      label='Reagent Plate')\n",
    "reagent_mix = reagent_plate.columns()[0]\n",
    "tip_20 = [protocol.load_labware(i['NAME'], location=i['SLOT'], label=i['LABEL'])\n",
    "          for i in FILTER_TIP_20]\n",
    "p200 = protocol.load_instrument(P200_MULTI['NAME'], P200_MULTI['POSITION'],\n",
    "                                tip_racks=tip_20)\n",
    "p200.well_bottom_clearance.aspirate = ASPIRATE_DEPTH_BOTTOM\n",
    "p200.well_bottom_clearance.dispense = ASPIRATE_DEPTH_BOTTOM"
   ]
  },
  {
   "cell_type": "code",
   "execution_count": null,
   "metadata": {},
   "outputs": [],
   "source": [
    "num_cols = len(reaction_plate.columns())"
   ]
  },
  {
   "cell_type": "markdown",
   "metadata": {},
   "source": [
    "### Add master mix"
   ]
  },
  {
   "cell_type": "code",
   "execution_count": null,
   "metadata": {},
   "outputs": [],
   "source": [
    "def add_master_mix(num_cols=1, pipette=None, source=None, dest=[]):\n",
    "    # Transfer 15ul of reagent mix (reagent plate) to the pre-prepared reaction plate\n",
    "    for c in range(num_cols):\n",
    "        pipette.pick_up_tip()\n",
    "        pipette.mix(repetitions=5, volume=VOL_MASTER_MIX, location=source[0])\n",
    "        pipette.aspirate(volume=VOL_MASTER_MIX, location=source[0])\n",
    "        pipette.dispense(volume=VOL_MASTER_MIX, location=dest[c][0])\n",
    "        pipette.mix(repetitions=5, volume=VOL_MASTER_MIX)\n",
    "        pipette.blow_out(location=dest[c][0])\n",
    "        pipette.touch_tip(v_offset=TOUCH_HEIGHT, speed=TOUCH_SPEED)\n",
    "        pipette.drop_tip()\n",
    "\n",
    "temp_deck.set_temperature(celsius=TEMP)\n",
    "add_master_mix(num_cols=num_cols, pipette=p200,\n",
    "               source=reagent_mix, dest=reaction_plate.columns())"
   ]
  }
 ],
 "metadata": {
  "kernelspec": {
   "display_name": "Python 3",
   "language": "python",
   "name": "python3"
  },
  "language_info": {
   "codemirror_mode": {
    "name": "ipython",
    "version": 3
   },
   "file_extension": ".py",
   "mimetype": "text/x-python",
   "name": "python",
   "nbconvert_exporter": "python",
   "pygments_lexer": "ipython3",
   "version": "3.6.3"
  }
 },
 "nbformat": 4,
 "nbformat_minor": 2
}
