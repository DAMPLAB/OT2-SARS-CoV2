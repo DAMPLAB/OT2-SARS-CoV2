{
 "cells": [
  {
   "cell_type": "code",
   "execution_count": null,
   "metadata": {
    "scrolled": false
   },
   "outputs": [],
   "source": [
    "import opentrons.execute\n",
    "protocol = opentrons.execute.get_protocol_api('2.7')\n",
    "protocol.home()"
   ]
  },
  {
   "cell_type": "code",
   "execution_count": null,
   "metadata": {},
   "outputs": [],
   "source": [
    "# Hardware\n",
    "TEMP_DECK = {\n",
    "    'NAME': 'Temperature Module GEN2',\n",
    "    'SLOT': 7\n",
    "}\n",
    "MAG_DECK = {\n",
    "    'NAME': 'Magnetic Module',\n",
    "    'SLOT': 10\n",
    "}\n",
    "\n",
    "# Labware\n",
    "OUTPUT_PLATE = { #200uL per well, 96 wells\n",
    "    'NAME': 'biorad_96_wellplate_200ul_pcr',\n",
    "    'LABEL': 'Output Plate' #no slot, sits on temp deck\n",
    "}\n",
    "REACTION_PLATE = { #2.4mL per well, 96 wells\n",
    "    'NAME': 'usascientific_96_wellplate_2.4ml_deep',\n",
    "    'LABEL': 'Reaction Plate', #no slot, sits on mag deck\n",
    "}\n",
    "REAGENT_PLATE = {\n",
    "    'NAME': 'biorad_96_wellplate_200ul_pcr',\n",
    "    'SLOT': 2,\n",
    "    'LABEL': 'Reagent Plate'\n",
    "}\n",
    "REAGENT_RESERVOIR = { #22mL per well, 12 wells\n",
    "    'NAME': 'usascientific_12_reservoir_22ml',\n",
    "    'SLOT': 11,\n",
    "    'LABEL': 'Reagent Reservoir'\n",
    "}\n",
    "WASTE_RESERVOIR = { #290mL per well, 1 well\n",
    "    'NAME': 'agilent_1_reservoir_290ml',\n",
    "    'SLOT': 8,\n",
    "    'LABEL': 'Waste Reservoir'\n",
    "}\n",
    "FILTER_TIP_20 = [{\n",
    "    'NAME': 'opentrons_96_filtertiprack_20ul',\n",
    "    'SLOT': 1,\n",
    "    'LABEL': 'Filter Tip SM1'\n",
    "}, {\n",
    "    'NAME': 'opentrons_96_filtertiprack_20ul',\n",
    "    'SLOT': 4,\n",
    "    'LABEL': 'Filter Tip SM4'\n",
    "}]\n",
    "FILTER_TIP_300 = [{\n",
    "    'NAME': 'opentrons_96_filtertiprack_200ul',\n",
    "    'SLOT': 3,\n",
    "    'LABEL': 'Filter Tip LG3'\n",
    "}, {\n",
    "    'NAME': 'opentrons_96_filtertiprack_200ul',\n",
    "    'SLOT': 6,\n",
    "    'LABEL': 'Filter Tip LG6'\n",
    "}, {\n",
    "    'NAME': 'opentrons_96_filtertiprack_200ul',\n",
    "    'SLOT': 9,\n",
    "    'LABEL': 'Filter Tip LG9'\n",
    "}, {\n",
    "    'NAME': 'opentrons_96_filtertiprack_200ul',\n",
    "    'SLOT': 5,\n",
    "    'LABEL': 'Filter Tip LG5'\n",
    "}]\n",
    "\n",
    "# Instruments\n",
    "P20_MULTI = {\n",
    "    'NAME': 'p20_multi_gen2',\n",
    "    'POSITION': 'right'\n",
    "}\n",
    "P300_MULTI = {\n",
    "    'NAME': 'p300_multi_gen2',\n",
    "    'POSITION': 'left'\n",
    "}\n",
    "\n",
    "# Reagents\n",
    "PROTEINASE_K = 'Proteinase K'\n",
    "MS2 = 'MS2 Phage Control'\n",
    "BEADS = 'Nucleic Acid Magnetic Beads'\n",
    "WASH_BUFFER = 'Wash Buffer'\n",
    "ETHANOL1 = 'Ethanol_1'\n",
    "ETHANOL2 = 'Ethanol_2'\n",
    "ELUTION = 'Elution Solution'\n",
    "\n",
    "DEFAULT_ASPIRATE_SPEED = 94\n",
    "DEFAULT_DISPENSE_SPEED = 94\n",
    "ASPIRATE_SPEED = 50\n",
    "DISPENSE_SPEED = 50\n",
    "\n",
    "DEPTH_BOTTOM_MID = 2.00 #2mm from bottom\n",
    "DEPTH_BOTTOM_LOW = 1.00\n",
    "TOUCH_SPEED = 20.0 #minimum speed\n",
    "\n",
    "# 10uL pipette with deepwell plate\n",
    "TOUCH_RADIUS_SM_LG = 1.00\n",
    "TOUCH_HEIGHT_SM_LG = -3.0\n",
    "\n",
    "# 200uL pipette with deepwell plate\n",
    "TOUCH_RADIUS_LG_LG = 0.75\n",
    "TOUCH_HEIGHT_LG_LG = -7.0\n",
    "\n",
    "# 200uL pipette with PCR plate\n",
    "TOUCH_RADIUS_LG_SM = 1.00\n",
    "TOUCH_HEIGHT_LG_SM = -2.0\n",
    "\n",
    "VOL_10 = 10\n",
    "VOL_250 = 250\n",
    "VOL_500 = 500\n",
    "\n",
    "VOL_SAMPLE = 200\n",
    "VOL_MS2 = 5\n",
    "VOL_PK = 5\n",
    "VOL_BEAD = 275\n",
    "VOL_ELUTE = 50\n",
    "VOL_WASTE = 485\n",
    "\n",
    "TEMP = 4\n",
    "MAGDECK_ENGAGE_HEIGHT = 12"
   ]
  },
  {
   "cell_type": "markdown",
   "metadata": {},
   "source": [
    "### Load Modules"
   ]
  },
  {
   "cell_type": "code",
   "execution_count": null,
   "metadata": {
    "scrolled": true
   },
   "outputs": [],
   "source": [
    "temp_deck = protocol.load_module(TEMP_DECK['NAME'],\n",
    "                                 location=TEMP_DECK['SLOT'])\n",
    "\n",
    "mag_deck = protocol.load_module(MAG_DECK['NAME'],\n",
    "                                location=MAG_DECK['SLOT'])"
   ]
  },
  {
   "cell_type": "markdown",
   "metadata": {},
   "source": [
    "### Load Plates"
   ]
  },
  {
   "cell_type": "code",
   "execution_count": null,
   "metadata": {},
   "outputs": [],
   "source": [
    "# The output plate needs to be kept cold on the temp deck\n",
    "output_plate = temp_deck.load_labware(OUTPUT_PLATE['NAME'],\n",
    "                                      label=OUTPUT_PLATE['LABEL'])\n",
    "# The reaction plate is loaded on top of the magnetic module\n",
    "reaction_plate = mag_deck.load_labware(REACTION_PLATE['NAME'],\n",
    "                                       label=REACTION_PLATE['LABEL'])\n",
    "\n",
    "reagent_plate = protocol.load_labware(REAGENT_PLATE['NAME'],\n",
    "                                      location=REAGENT_PLATE['SLOT'],\n",
    "                                      label=REAGENT_PLATE['LABEL'])\n",
    "\n",
    "reagent_reservior = protocol.load_labware(REAGENT_RESERVOIR['NAME'],\n",
    "                                          location=REAGENT_RESERVOIR['SLOT'],\n",
    "                                          label=REAGENT_RESERVOIR['LABEL'])\n",
    "\n",
    "waste_reservior = protocol.load_labware(WASTE_RESERVOIR['NAME'],\n",
    "                                        location=WASTE_RESERVOIR['SLOT'],\n",
    "                                        label=WASTE_RESERVOIR['LABEL'])"
   ]
  },
  {
   "cell_type": "code",
   "execution_count": null,
   "metadata": {},
   "outputs": [],
   "source": [
    "def reset_pipette_depth(pipette):\n",
    "    pipette.well_bottom_clearance.aspirate = DEPTH_BOTTOM_MID\n",
    "    pipette.well_bottom_clearance.dispense = DEPTH_BOTTOM_MID"
   ]
  },
  {
   "cell_type": "code",
   "execution_count": null,
   "metadata": {},
   "outputs": [],
   "source": [
    "def reset_pipette_speed(pipette):\n",
    "    pipette.flow_rate.aspirate = DEFAULT_ASPIRATE_SPEED\n",
    "    pipette.flow_rate.dispense = DEFAULT_DISPENSE_SPEED"
   ]
  },
  {
   "cell_type": "markdown",
   "metadata": {},
   "source": [
    "### Load Pippettes and Tips"
   ]
  },
  {
   "cell_type": "code",
   "execution_count": null,
   "metadata": {},
   "outputs": [],
   "source": [
    "# Load in 2 of 20ul filter tiprack\n",
    "tip_20 = [protocol.load_labware(i['NAME'], location=i['SLOT'], label=i['LABEL'])\n",
    "          for i in FILTER_TIP_20]\n",
    "p20 = protocol.load_instrument(P20_MULTI['NAME'], P20_MULTI['POSITION'],\n",
    "                               tip_racks=tip_20)\n",
    "reset_pipette_depth(p20)\n",
    "\n",
    "# Load in 4 of 200ul filter tiprack\n",
    "tip_200 = [protocol.load_labware(i['NAME'], location=i['SLOT'], label=i['LABEL'])\n",
    "           for i in FILTER_TIP_300]\n",
    "p300 = protocol.load_instrument(P300_MULTI['NAME'], P300_MULTI['POSITION'],\n",
    "                                tip_racks=tip_200)\n",
    "reset_pipette_depth(p300)"
   ]
  },
  {
   "cell_type": "code",
   "execution_count": null,
   "metadata": {},
   "outputs": [],
   "source": [
    "def make_reagent_map(reagent_plate, reagent_reservior):\n",
    "    return {\n",
    "        PROTEINASE_K: [ # 5uL per sample, 528uL in the well\n",
    "            {'VOL': 528, 'WELL': reagent_plate.columns()[0]}\n",
    "        ],\n",
    "        MS2: [ # 5uL per sample, 52uL in the well\n",
    "            {'VOL': 52, 'WELL': reagent_plate.columns()[1]}\n",
    "        ],\n",
    "        ELUTION: [ # 50uL per sample, 5.28mL in the well\n",
    "            {'VOL': 5280, 'WELL': reagent_reservior.columns()[10]}\n",
    "        ],\n",
    "        BEADS: [ # 275uL per sample, 14.52mL in the well\n",
    "            {'VOL': 14520, 'WELL': reagent_reservior.columns()[0]},\n",
    "            {'VOL': 14520, 'WELL': reagent_reservior.columns()[1]}\n",
    "        ],\n",
    "        WASH_BUFFER: [ # 500uL per sample, 17.6mL in the well\n",
    "            {'VOL': 17600, 'WELL': reagent_reservior.columns()[2]},\n",
    "            {'VOL': 17600, 'WELL': reagent_reservior.columns()[3]},\n",
    "            {'VOL': 17600, 'WELL': reagent_reservior.columns()[4]}\n",
    "        ],\n",
    "        ETHANOL1: [\n",
    "            {'VOL': 17600, 'WELL': reagent_reservior.columns()[5]},\n",
    "            {'VOL': 17600, 'WELL': reagent_reservior.columns()[6]},\n",
    "            {'VOL': 17600, 'WELL': reagent_reservior.columns()[7]},\n",
    "        ],\n",
    "        ETHANOL2: [\n",
    "            {'VOL': 13200, 'WELL': reagent_reservior.columns()[8]},\n",
    "            {'VOL': 13200, 'WELL': reagent_reservior.columns()[9]}\n",
    "        ]\n",
    "    }\n",
    "\n",
    "reagent_map = make_reagent_map(reagent_plate, reagent_reservior)"
   ]
  },
  {
   "cell_type": "code",
   "execution_count": null,
   "metadata": {},
   "outputs": [],
   "source": [
    "def transfer(vol=0, dispense_all=True, pipette=None, source=[], dest=[],\n",
    "             mix_before=None, mix_after=None,\n",
    "             touch_tip=None, delay_time_s=None, protocol=None):\n",
    "    max_vol = pipette.hw_pipette['working_volume']\n",
    "    if max_vol == 300:\n",
    "        max_vol = 200 # remove this crap\n",
    "    if mix_before and len(mix_before) == 2:\n",
    "        mix_before_vol = max_vol if mix_before[1] > max_vol else mix_before[1]\n",
    "    if mix_after and len(mix_after) == 2:\n",
    "        mix_after_vol = max_vol if mix_after[1] > max_vol else mix_after[1]\n",
    "\n",
    "    n = math.ceil(vol / max_vol)\n",
    "    vol_ar = [vol // n + (1 if x < vol % n else 0) for x in range(n)]\n",
    "    pipette.pick_up_tip()\n",
    "\n",
    "    # dispense to the top of the well so we can reuse the tips\n",
    "    for v in vol_ar[:-1]:\n",
    "        if mix_before:\n",
    "            if len(mix_before) == 1:\n",
    "                pipette.mix(repetitions=mix_before[0],\n",
    "                            volume=v,\n",
    "                            location=source[0])\n",
    "            if len(mix_before) == 2:\n",
    "                pipette.mix(repetitions=mix_before[0],\n",
    "                            volume=mix_before_vol,\n",
    "                            location=source[0])\n",
    "        pipette.aspirate(volume=v, location=source[0])\n",
    "        if delay_time_s:\n",
    "            pipette.air_gap(volume=0)\n",
    "            protocol.delay(seconds=delay_time_s)\n",
    "        \n",
    "        dispense_vol = v if dispense_all else v-10\n",
    "        pipette.dispense(volume=dispense_vol, location=dest[0].top())\n",
    "        pipette.blow_out(location=dest[0])\n",
    "\n",
    "    # the final transfer\n",
    "    if mix_before:\n",
    "        if len(mix_before) == 1:\n",
    "            pipette.mix(repetitions=mix_before[0],\n",
    "                        volume=vol_ar[-1],\n",
    "                        location=source[0])\n",
    "        if len(mix_before) == 2:\n",
    "            pipette.mix(repetitions=mix_before[0],\n",
    "                        volume=mix_after_vol,\n",
    "                        location=source[0])\n",
    "    pipette.aspirate(volume=vol_ar[-1], location=source[0])\n",
    "    if delay_time_s:\n",
    "        pipette.air_gap(volume=0)\n",
    "        protocol.delay(seconds=delay_time_s)\n",
    "    \n",
    "    dispense_vol = vol_ar[-1] if dispense_all else vol_ar[-1]-10\n",
    "    pipette.dispense(volume=dispense_vol, location=dest[0])\n",
    "\n",
    "    if mix_after:\n",
    "        if len(mix_after) == 1:\n",
    "            pipette.mix(repetitions=mix_after[0], volume=vol_ar[-1])\n",
    "        if len(mix_after) == 2:\n",
    "            pipette.mix(repetitions=mix_after[0], volume=mix_after_vol)\n",
    "\n",
    "    pipette.blow_out(location=dest[0])\n",
    "    if touch_tip:\n",
    "        pipette.touch_tip(radius=touch_tip[0],\n",
    "                          v_offset=touch_tip[1],\n",
    "                          speed=TOUCH_SPEED)\n",
    "    pipette.drop_tip()"
   ]
  },
  {
   "cell_type": "code",
   "execution_count": null,
   "metadata": {},
   "outputs": [],
   "source": [
    "def reagent_low(q_remain=0, q_transfer=0):\n",
    "    return True if q_remain < q_transfer else False"
   ]
  },
  {
   "cell_type": "code",
   "execution_count": null,
   "metadata": {},
   "outputs": [],
   "source": [
    "num_cols = 1"
   ]
  },
  {
   "cell_type": "markdown",
   "metadata": {},
   "source": [
    "### Digest with Proteinase K"
   ]
  },
  {
   "cell_type": "code",
   "execution_count": null,
   "metadata": {
    "scrolled": true
   },
   "outputs": [],
   "source": [
    "def add_proteinase_k(num_cols=0, pipette=None, source=None, dest=[]):\n",
    "    for c in range(num_cols):\n",
    "        transfer(vol=VOL_PK, pipette=pipette,\n",
    "                 source=source, dest=dest[c],\n",
    "                 mix_before=(2, VOL_10), mix_after=(3, VOL_10),\n",
    "                 touch_tip=(TOUCH_RADIUS_SM_LG, TOUCH_HEIGHT_SM_LG))\n",
    "        \n",
    "# 1. Mix and add 5 μL of Proteinase K to each well of reaction plate\n",
    "# that already contains 200 μL of sample\n",
    "add_proteinase_k(num_cols=num_cols, pipette=p20,\n",
    "                 source=reagent_map[PROTEINASE_K][0]['WELL'],\n",
    "                 dest=reaction_plate.columns())"
   ]
  },
  {
   "cell_type": "markdown",
   "metadata": {},
   "source": [
    "### Add magnetic beads"
   ]
  },
  {
   "cell_type": "code",
   "execution_count": null,
   "metadata": {},
   "outputs": [],
   "source": [
    "def add_beads(num_cols=0, pipette=None, source=[], dest=[]):\n",
    "    s = 1\n",
    "    reagent_vol = source[s]['VOL']\n",
    "    for c in range(8,9):\n",
    "        vol_transfer = VOL_BEAD * pipette.channels\n",
    "        if reagent_low(q_remain=reagent_vol, q_transfer=vol_transfer):\n",
    "            s += 1\n",
    "            reagent_vol = source[s]['VOL']\n",
    "\n",
    "        transfer(vol=VOL_BEAD, pipette=pipette,\n",
    "                 source=source[s]['WELL'], dest=dest[c],\n",
    "                 mix_before=(5,), mix_after=(2,),\n",
    "                 touch_tip=(TOUCH_RADIUS_LG_LG, TOUCH_HEIGHT_LG_LG),\n",
    "                 delay_time_s=5, protocol=protocol)\n",
    "\n",
    "        reagent_vol -= vol_transfer\n",
    "\n",
    "# 2. Mix and add 275 μL of bead solution to each well\n",
    "add_beads(num_cols=num_cols, pipette=p300,\n",
    "          source=reagent_map[BEADS],\n",
    "          dest=reaction_plate.columns())"
   ]
  },
  {
   "cell_type": "markdown",
   "metadata": {},
   "source": [
    "### Add MS2 phage control"
   ]
  },
  {
   "cell_type": "code",
   "execution_count": null,
   "metadata": {},
   "outputs": [],
   "source": [
    "def add_ms2(num_cols=0, pipette=None, source=None, dest=[]):\n",
    "    for c in range(num_cols):\n",
    "        transfer(vol=VOL_PK, pipette=p20,\n",
    "                 source=source, dest=dest[c],\n",
    "                 mix_before=(2, VOL_10), mix_after=(3, VOL_10),\n",
    "                 touch_tip=(TOUCH_RADIUS_SM_LG, TOUCH_RADIUS_SM_LG))\n",
    "        \n",
    "# 3. Add 5 μL of MS2 Phage Control to each well\n",
    "add_ms2(num_cols=num_cols, pipette=p20,\n",
    "        source=reagent_map[MS2][0]['WELL'],\n",
    "        dest=reaction_plate.columns())"
   ]
  },
  {
   "cell_type": "markdown",
   "metadata": {},
   "source": [
    "### Discard Supernatant"
   ]
  },
  {
   "cell_type": "code",
   "execution_count": null,
   "metadata": {},
   "outputs": [],
   "source": [
    "mag_deck.engage(height=MAGDECK_ENGAGE_HEIGHT)"
   ]
  },
  {
   "cell_type": "code",
   "execution_count": null,
   "metadata": {
    "scrolled": true
   },
   "outputs": [],
   "source": [
    "def discard_supernatant(num_cols=0, pipette=None, source=[], dest=[]):\n",
    "    pipette.well_bottom_clearance.aspirate = DEPTH_BOTTOM_LOW\n",
    "    pipette.flow_rate.aspirate = ASPIRATE_SPEED\n",
    "    pipette.flow_rate.dispense = DISPENSE_SPEED\n",
    "    for c in range(num_cols):\n",
    "        transfer(vol=VOL_WASTE, dispense_all=False, pipette=pipette,\n",
    "                 source=source[c], dest=dest[0])\n",
    "    reset_pipette_depth(pipette)\n",
    "    reset_pipette_speed(pipette)\n",
    "\n",
    "# 1. Keeping the plate on the magnet, discard the supernatant from each well.\n",
    "# IMPORTANT! Avoid disturbing the beads.\n",
    "discard_supernatant(num_cols=num_cols, pipette=p300,\n",
    "                  source=reaction_plate.columns(),\n",
    "                  dest=waste_reservior.columns())"
   ]
  },
  {
   "cell_type": "markdown",
   "metadata": {},
   "source": [
    "### Wash the beads"
   ]
  },
  {
   "cell_type": "code",
   "execution_count": null,
   "metadata": {},
   "outputs": [],
   "source": [
    "def wash(num_cols=0, pipette=None, source=None, dest=None, vol=0):\n",
    "    s = 0\n",
    "    reagent_vol = source[s]['VOL']\n",
    "    for c in range(2,3):\n",
    "        vol_transfer = vol * pipette.channels\n",
    "        if reagent_low(q_remain=reagent_vol, q_transfer=vol_transfer):\n",
    "            s += 1\n",
    "            reagent_vol = source[s]['VOL']\n",
    "\n",
    "        transfer(vol=vol, pipette=pipette,\n",
    "                 source=source[s]['WELL'], dest=dest[c],\n",
    "                 mix_before=(3,), mix_after=(5,),\n",
    "                 touch_tip=(TOUCH_RADIUS_LG_LG, TOUCH_HEIGHT_LG_LG))\n",
    "        reagent_vol -= vol_transfer"
   ]
  },
  {
   "cell_type": "code",
   "execution_count": null,
   "metadata": {},
   "outputs": [],
   "source": [
    "def wash_beads(protocol, source=None, vol=0):\n",
    "    # 2. Remove the plate from the magnetic stand\n",
    "    mag_deck.disengage()\n",
    "\n",
    "    wash(num_cols=num_cols, pipette=p300,\n",
    "         source=source, dest=reaction_plate.columns(),\n",
    "         vol=vol)\n",
    "\n",
    "# Steps 2-7\n",
    "wash_beads(protocol, source=reagent_map[WASH_BUFFER], vol=VOL_500)\n",
    "# wash_beads(protocol, source=reagent_map[ETHANOL1], vol=VOL_500)\n",
    "# wash_beads(protocol, source=reagent_map[ETHANOL2], vol=VOL_250)"
   ]
  },
  {
   "cell_type": "markdown",
   "metadata": {},
   "source": [
    "### Elute the nucleic acid"
   ]
  },
  {
   "cell_type": "code",
   "execution_count": null,
   "metadata": {},
   "outputs": [],
   "source": [
    "def elute(num_cols=0, pipette=None, source=None, dest=[]):\n",
    "    pipette.well_bottom_clearance.aspirate = DEPTH_BOTTOM_LOW\n",
    "    for c in range(num_cols):\n",
    "        transfer(vol=VOL_ELUTE, pipette=pipette,\n",
    "                 source=source['WELL'], dest=dest[c],\n",
    "                 mix_before=(3, 175), mix_after=(5, 35),\n",
    "                 touch_tip=(TOUCH_RADIUS_LG_LG, TOUCH_HEIGHT_LG_LG))\n",
    "    reset_pipette_depth(pipette)\n",
    "\n",
    "# 1. Add 50 μL of Elution Solution to each sample, then seal the plate\n",
    "elute(num_cols=num_cols, pipette=p200,\n",
    "      source=reagent_map[ELUTION][0],\n",
    "      dest=reaction_plate.columns())"
   ]
  },
  {
   "cell_type": "markdown",
   "metadata": {},
   "source": [
    "### Make qPCR plate"
   ]
  },
  {
   "cell_type": "code",
   "execution_count": null,
   "metadata": {},
   "outputs": [],
   "source": [
    "temp_deck.set_temperature(celsius=TEMP_COOL)"
   ]
  },
  {
   "cell_type": "code",
   "execution_count": null,
   "metadata": {},
   "outputs": [],
   "source": [
    "def make_qPCR_plate(num_cols=0, pipette=None, source=[], dest=[]):\n",
    "    pipette.well_bottom_clearance.aspirate = DEPTH_BOTTOM_LOW\n",
    "    for c in range(num_cols):\n",
    "        transfer(vol=VOL_ELUTE, pipette=pipette,\n",
    "                 source=source[c], dest=dest[c],\n",
    "                 touch_tip=(TOUCH_RADIUS_LG_SM, TOUCH_HEIGHT_LG_SM))\n",
    "    reset_pipette_depth(pipette)\n",
    "        \n",
    "# 6. Keeping the plate on the magnet, transfer the eluates to a fresh standard\n",
    "# (not deep-well) plate, then seal the plate with MicroAmp™ Clear Adhesive Film.\n",
    "# IMPORTANT! To prevent evaporation, seal the plate containing the eluate immediately after the transfers are complete.\n",
    "# Note: Significant bead carry over may adversely impact RT-PCR performance. Place the plate on ice for immediate use\\\n",
    "# in real-time RT‑PCR.\n",
    "make_qPCR_plate(num_cols=num_cols, pipette=p200,\n",
    "                source=reaction_plate.columns(),\n",
    "                dest=output_plate.columns())"
   ]
  }
 ],
 "metadata": {
  "kernelspec": {
   "display_name": "Python 3",
   "language": "python",
   "name": "python3"
  },
  "language_info": {
   "codemirror_mode": {
    "name": "ipython",
    "version": 3
   },
   "file_extension": ".py",
   "mimetype": "text/x-python",
   "name": "python",
   "nbconvert_exporter": "python",
   "pygments_lexer": "ipython3",
   "version": "3.7.1"
  }
 },
 "nbformat": 4,
 "nbformat_minor": 2
}
